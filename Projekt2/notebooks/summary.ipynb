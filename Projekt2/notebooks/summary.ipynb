{
 "cells": [
  {
   "cell_type": "markdown",
   "id": "7961edd1",
   "metadata": {},
   "source": [
    "# Projekt 2 - Location Intelligence - podsumowanie\n",
    "\n",
    "## Grupa: Klaudia Buksa, Grzegorz Cichy, Marcin Słyś\n",
    "\n",
    "## **Etapy wykonane w trakcie realizacji projektu**\n",
    "\n",
    "### 1. Wczytanie danych\n",
    "\n",
    "Pierwszym etapem wykonania projektu było wczytanie danych wejściowych. Były to pliki .parquet zawierające informacje o ścieżkach rowerowych w 2 miastach - Amsterdamie i Krakowie.\n",
    "\n",
    "\n",
    "Po wczytaniu plików jako DataFrame zawierały one kolumnę 'geometry' przechowującą LINESTRING oraz wiele innych kolumn zawierających w przeważającej części wartości brakujące.\n",
    "Wszystkie kolumny poza geometrią zostały na późniejszym etapie odrzucone, a dane w celu wykorzystania kontekstu przestrzennego zostały przetransformowane do GeoDataFrame.\n",
    "\n",
    "### 2. Utworzenie Siatek heksagonalnych H3.\n",
    "\n",
    "Dla obszarów miast utworzone zostały heksagonalne siatki, które na późniejszym etapie posłużyć miały do agregacji danych. Zostały one przycięte do granicy obszaru miejskiego, aby uniknąć pustych hexów w danych - jeśli siatka nie znajdowała się w granicach Amsterdamu to nie powinna być uwzględniana.\n",
    "\n",
    "Utworzona siatka po przycięciu oraz z nałożonymi na nią ścieżkami rowerowymi oraz granicami Amsterdamu:\n",
    "\n",
    "!['Siatka'](./images/grid_bike_trails.png)\n",
    "\n",
    "### 3. Inżynieria cech.\n",
    "\n",
    "**3.1 Zmienna objaśniana**\n",
    "\n",
    "Po nałożeniu siatek na trasy ścieżek rowerowych można było przejść do agregacji na poziomie heksagonu w celu utworzenia cech mających posłużyć do późniejszej predykcji.\n",
    "\n",
    "W pierwszej kolejności wyznaczone zostały wartości zmiennej objaśnianej, czyli sumaryczne długość ścieżek rowerowych w heksagonie.\n",
    "\n",
    "Struktura GeoDataFrame'u po dodaniu zmiennej objaśnianej:\n",
    "\n",
    "!['Zmienna objaśniana'](./images/y.png)\n",
    "\n",
    "\n",
    "**3.2 Zmienne objaśniające**\n",
    "\n",
    "Kolejnym zadaniem było wyznaczenie zmiennych objaśniających, z pomocą których model miał przewidywać długość ścieżek rowerowych w heksagonach. Do tego celu wykorzystana została biblioteka osmnx, która pozwala w efektywny sposób pozyskiwać dane różnych kategorii z Open Street Map. \n",
    "\n",
    "Po konsultacjach i analizie zdecydowano się na ekstrakcję następujących cech:\n",
    "- długość głównych dróg\n",
    "- długość ścieżek i chodników\n",
    "- odległość od centrum miasta\n",
    "- ilość budynków\n",
    "- powierzchnia przestrzeni zielonych\n",
    "- ilość punktów usługowych\n",
    "\n",
    "Agregacja odbywała się oczywiście względem heksagonu."
   ]
  },
  {
   "cell_type": "code",
   "execution_count": null,
   "id": "8c07f9d1",
   "metadata": {},
   "outputs": [],
   "source": []
  }
 ],
 "metadata": {
  "kernelspec": {
   "display_name": "Python 3 (ipykernel)",
   "language": "python",
   "name": "python3"
  },
  "language_info": {
   "codemirror_mode": {
    "name": "ipython",
    "version": 3
   },
   "file_extension": ".py",
   "mimetype": "text/x-python",
   "name": "python",
   "nbconvert_exporter": "python",
   "pygments_lexer": "ipython3",
   "version": "3.11.3"
  }
 },
 "nbformat": 4,
 "nbformat_minor": 5
}
